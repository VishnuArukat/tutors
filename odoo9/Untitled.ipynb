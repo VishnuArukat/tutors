{
 "cells": [
  {
   "cell_type": "markdown",
   "metadata": {},
   "source": [
    "# PYTHON ODOO REFERENCE\n",
    "\n",
    "                    There are 3 script files in the odoo odoo.py,openerp-server and openerp-gevent which all run the same odoo cli main class function.\n",
    "                    you can install odoo from the github using the clone method and either you can create a server file which consist of all the server parameters for running the odoo else you can run it using the cli method like below from the odoo directory. \n",
    "                    The things to remember are odoo uses some python dependencies and also some postgresql db to run as the python dependencies are in the requiremnet.txt file you can install that using the format as follows "
   ]
  },
  {
   "cell_type": "code",
   "execution_count": null,
   "metadata": {
    "collapsed": true
   },
   "outputs": [],
   "source": [
    "#Running the odoo using the cli\n",
    "./odoo.py --addons-path=/home/broadtech/Desktop/DevopsOdoo9/odoo-9.0c-20170515/openerp/addons,/home/broadtech/Desktop/DevopsOdoo9/odoo-9.0c-20170515/openerp/custom --xmlrpc-port=8099 --db-filter=cook9\n"
   ]
  },
  {
   "cell_type": "code",
   "execution_count": null,
   "metadata": {
    "collapsed": true
   },
   "outputs": [],
   "source": [
    "#Installing the python dependencies \n",
    "pip install -r requirements.txt"
   ]
  }
 ],
 "metadata": {
  "kernelspec": {
   "display_name": "Python 2",
   "language": "python",
   "name": "python2"
  },
  "language_info": {
   "codemirror_mode": {
    "name": "ipython",
    "version": 2
   },
   "file_extension": ".py",
   "mimetype": "text/x-python",
   "name": "python",
   "nbconvert_exporter": "python",
   "pygments_lexer": "ipython2",
   "version": "2.7.6"
  }
 },
 "nbformat": 4,
 "nbformat_minor": 2
}
